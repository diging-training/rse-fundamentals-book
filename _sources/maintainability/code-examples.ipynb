{
 "cells": [
  {
   "cell_type": "markdown",
   "id": "3eac7dc6",
   "metadata": {},
   "source": [
    "# Code Examples"
   ]
  },
  {
   "cell_type": "code",
   "execution_count": 1,
   "id": "6502bdd7",
   "metadata": {},
   "outputs": [
    {
     "ename": "StdinNotImplementedError",
     "evalue": "raw_input was called, but this frontend does not support input requests.",
     "output_type": "error",
     "traceback": [
      "\u001b[0;31m---------------------------------------------------------------------------\u001b[0m",
      "\u001b[0;31mStdinNotImplementedError\u001b[0m                  Traceback (most recent call last)",
      "Cell \u001b[0;32mIn[1], line 1\u001b[0m\n\u001b[0;32m----> 1\u001b[0m a \u001b[38;5;241m=\u001b[39m \u001b[38;5;28mfloat\u001b[39m(\u001b[38;5;28;43minput\u001b[39;49m\u001b[43m(\u001b[49m\u001b[38;5;124;43m\"\u001b[39;49m\u001b[38;5;124;43mPlease, enter a number: \u001b[39;49m\u001b[38;5;124;43m\"\u001b[39;49m\u001b[43m)\u001b[49m)\n\u001b[1;32m      2\u001b[0m b \u001b[38;5;241m=\u001b[39m (a \u001b[38;5;241m*\u001b[39m \u001b[38;5;241m1.8\u001b[39m) \u001b[38;5;241m+\u001b[39m \u001b[38;5;241m32\u001b[39m \n\u001b[1;32m      4\u001b[0m \u001b[38;5;28mprint\u001b[39m(\u001b[38;5;124m\"\u001b[39m\u001b[38;5;124mThe result is: \u001b[39m\u001b[38;5;132;01m{0}\u001b[39;00m\u001b[38;5;124m\"\u001b[39m\u001b[38;5;241m.\u001b[39mformat(b)) \n",
      "File \u001b[0;32m~/Dropbox (Personal)/ASU/Teaching/SCA-RSE/Materials/Week-03-Docker/venv/lib/python3.10/site-packages/ipykernel/kernelbase.py:1186\u001b[0m, in \u001b[0;36mKernel.raw_input\u001b[0;34m(self, prompt)\u001b[0m\n\u001b[1;32m   1184\u001b[0m \u001b[38;5;28;01mif\u001b[39;00m \u001b[38;5;129;01mnot\u001b[39;00m \u001b[38;5;28mself\u001b[39m\u001b[38;5;241m.\u001b[39m_allow_stdin:\n\u001b[1;32m   1185\u001b[0m     msg \u001b[38;5;241m=\u001b[39m \u001b[38;5;124m\"\u001b[39m\u001b[38;5;124mraw_input was called, but this frontend does not support input requests.\u001b[39m\u001b[38;5;124m\"\u001b[39m\n\u001b[0;32m-> 1186\u001b[0m     \u001b[38;5;28;01mraise\u001b[39;00m StdinNotImplementedError(msg)\n\u001b[1;32m   1187\u001b[0m \u001b[38;5;28;01mreturn\u001b[39;00m \u001b[38;5;28mself\u001b[39m\u001b[38;5;241m.\u001b[39m_input_request(\n\u001b[1;32m   1188\u001b[0m     \u001b[38;5;28mstr\u001b[39m(prompt),\n\u001b[1;32m   1189\u001b[0m     \u001b[38;5;28mself\u001b[39m\u001b[38;5;241m.\u001b[39m_parent_ident[\u001b[38;5;124m\"\u001b[39m\u001b[38;5;124mshell\u001b[39m\u001b[38;5;124m\"\u001b[39m],\n\u001b[1;32m   1190\u001b[0m     \u001b[38;5;28mself\u001b[39m\u001b[38;5;241m.\u001b[39mget_parent(\u001b[38;5;124m\"\u001b[39m\u001b[38;5;124mshell\u001b[39m\u001b[38;5;124m\"\u001b[39m),\n\u001b[1;32m   1191\u001b[0m     password\u001b[38;5;241m=\u001b[39m\u001b[38;5;28;01mFalse\u001b[39;00m,\n\u001b[1;32m   1192\u001b[0m )\n",
      "\u001b[0;31mStdinNotImplementedError\u001b[0m: raw_input was called, but this frontend does not support input requests."
     ]
    }
   ],
   "source": [
    "a = float(input(\"Please, enter a number: \"))\n",
    "b = (a * 1.8) + 32 \n",
    "\n",
    "print(\"The result is: {0}\".format(b)) "
   ]
  },
  {
   "cell_type": "code",
   "execution_count": null,
   "id": "eab2e536",
   "metadata": {},
   "outputs": [],
   "source": [
    "celsius = float(input(\"Please, enter temperature in Celsius: \"))\n",
    "fahrenheit = (celsius * 1.8) + 32 \n",
    "print(\"{0} Celsius is {1} Fahrenheit.\".format(celsius, fahrenheit)) "
   ]
  },
  {
   "cell_type": "code",
   "execution_count": null,
   "id": "13ca9483",
   "metadata": {},
   "outputs": [],
   "source": [
    "input = ... # retrieved or passed in from somewhere\n",
    "\n",
    "los = []\n",
    "norms = []\n",
    "highs = []\n",
    "\n",
    "for x in input:\n",
    "    if x < 97:\n",
    "        los.append(x)\n",
    "    elif x > 99:\n",
    "        highs.append(x)\n",
    "    else:\n",
    "        norms.append(x)  "
   ]
  },
  {
   "cell_type": "code",
   "execution_count": null,
   "id": "6cd9e4b1",
   "metadata": {},
   "outputs": [],
   "source": [
    "normal_low = 97 # normal human body temperature lower end\n",
    "normal_high = 99 # normal human body temperature higher end\n",
    "\n",
    "temperature_measurements = ... # retrieved or passed in from somewhere\n",
    "\n",
    "low_temperatures = []\n",
    "normal_temperature = []\n",
    "high_temperatures = []\n",
    "\n",
    "for temperature in temperature_measurements:\n",
    "    if temperature < normal_low:\n",
    "        low_temperatures.append(temperature)\n",
    "    elif temperature > normal_high:\n",
    "        high_temperatures.append(temperature)\n",
    "    else:\n",
    "        normal_temperatures.append(temperature)  "
   ]
  },
  {
   "cell_type": "code",
   "execution_count": null,
   "id": "6f594f9a",
   "metadata": {},
   "outputs": [],
   "source": [
    "normal_low = 97 # normal human body temperature lower end\n",
    "\n",
    "temperature_measurements_1 = ... # retrieved or passed in from somewhere\n",
    "\n",
    "normal_temperature_1 = []\n",
    "high_temperatures_2 = []\n",
    "normal_high = 99 # normal human body temperature higher end\n",
    "low_temperatures_1 = []\n",
    "low_temperatures_2 = []\n",
    "normal_temperature_2 = []\n",
    "high_temperatures_1 = []\n",
    "\n",
    "for temperature in temperature_measurements:\n",
    "    if temperature < normal_low:\n",
    "        low_temperatures_1.append(temperature)\n",
    "    elif temperature > normal_high:\n",
    "        high_temperatures_1.append(temperature)\n",
    "    else:\n",
    "        normal_temperatures_1.append(temperature)  \n",
    "\n",
    "temperature_measurements_2 = ... # retrieved or passed in from somewhere\n",
    "for temperature in temperature_measurements_2:\n",
    "    if temperature < normal_low:\n",
    "        low_temperatures_2.append(temperature)\n",
    "    elif temperature > normal_high:\n",
    "        high_temperatures_2.append(temperature)\n",
    "    else:\n",
    "        normal_temperatures_2.append(temperature)  \n"
   ]
  },
  {
   "cell_type": "code",
   "execution_count": null,
   "id": "4e8f62a9",
   "metadata": {},
   "outputs": [],
   "source": [
    "NORMAL_LOW = 97 # normal human body temperature lower end\n",
    "NORMAL_HIGH = 99 # normal human body temperature higher end\n",
    "\n",
    "def sort_temperatures(measurements):\n",
    "    low = []\n",
    "    normal = []\n",
    "    high = []\n",
    "\n",
    "    for temperature in measurements:\n",
    "        if temperature < NORMAL_LOW:\n",
    "            low.append(temperature)\n",
    "        elif temperature > NORMAL_HIGH:\n",
    "            high.append(temperature)\n",
    "        else:\n",
    "            normals.append(temperature)  \n",
    "    \n",
    "    return low, normal, high\n",
    "\n",
    "\n",
    "temperature_measurements_1 = ... # retrieved or passed in from somewhere\n",
    "temperature_measurements_2 = ... # retrieved or passed in from somewhere\n",
    "\n",
    "low_1, normal_1, high_1 = sort_temperatures(temperature_measurements_1)\n",
    "low_2, normal_2, high_2 = sort_temperatures(temperature_measurements_2)\n"
   ]
  },
  {
   "cell_type": "code",
   "execution_count": null,
   "id": "656eb235",
   "metadata": {},
   "outputs": [],
   "source": [
    "input = [[97, 96, 96], [99, 98,99], [96, 96, 97], [100, 99, 100]] # some array of arrays with input data\n",
    "low_temps = []\n",
    "low_count = 0\n",
    "high_count = 0\n",
    "for value in input:\n",
    "\n",
    "    LOW_TEMP = 97\n",
    "    average = 0\n",
    "    if sum(value)/len(value) < LOW_TEMP:\n",
    "        average = sum(value)/len(value)\n",
    "        low_count += 1\n",
    "    if average > 99:\n",
    "        average = sum(value)/len(value)\n",
    "        high_count += 1\n",
    "    average = sum(value)/len(value)\n",
    "\n",
    "    if average > 97 and average < 99:\n",
    "        continue\n",
    "\n",
    "    print(\"Average is \" + str(average))\n",
    "\n",
    "measurement_count = len(input)\n",
    "low_percent = low_count/measurement_count*100\n",
    "print(\"Low temperatures in {0}%.\".format(low_percent))\n"
   ]
  },
  {
   "cell_type": "code",
   "execution_count": null,
   "id": "c84988c1",
   "metadata": {},
   "outputs": [],
   "source": [
    "from collections import Counter\n",
    "\n",
    "measurements = [[97, 96, 96], [99, 98,99], [96, 96, 97], [100, 99, 100]] # some array of arrays with input data\n",
    "LOW_TEMP = 97\n",
    "HIGH_TEMP = 99\n",
    "\n",
    "def get_average(temperatures):\n",
    "    return sum(temperatures)/len(temperatures)\n",
    "\n",
    "def count_average(average, counter):\n",
    "    if average < LOW_TEMP:\n",
    "        counter['low'] += 1\n",
    "    if average > HIGH_TEMP:\n",
    "        counter['high'] += 1\n",
    "\n",
    "def calculate_percentage(count, total):\n",
    "    return count/total*100\n",
    "\n",
    "average_counter = Counter({'low': 0, 'high': 0})\n",
    "\n",
    "for temperatures in measurements:\n",
    "    average = get_average(temperatures)\n",
    "    print(\"Average is \" + str(average))\n",
    "\n",
    "    if average > 97 and average < 99:\n",
    "        continue\n",
    "\n",
    "    count_average(average, average_counter)\n",
    "    \n",
    "measurement_count = len(measurements)\n",
    "\n",
    "print(\"Low temperatures in {0}%.\".format(calculate_percentage(average_counter['low'], measurement_count)))\n",
    "print(\"High temperatures in {0}%.\".format(calculate_percentage(average_counter['high'], measurement_count)))\n"
   ]
  }
 ],
 "metadata": {
  "jupytext": {
   "formats": "md:myst",
   "text_representation": {
    "extension": ".md",
    "format_name": "myst"
   }
  },
  "kernelspec": {
   "display_name": "Python 3",
   "language": "python",
   "name": "python3"
  },
  "language_info": {
   "codemirror_mode": {
    "name": "ipython",
    "version": 3
   },
   "file_extension": ".py",
   "mimetype": "text/x-python",
   "name": "python",
   "nbconvert_exporter": "python",
   "pygments_lexer": "ipython3",
   "version": "3.10.8"
  },
  "source_map": [
   11,
   15,
   22,
   29,
   47,
   67,
   100,
   129,
   158
  ]
 },
 "nbformat": 4,
 "nbformat_minor": 5
}